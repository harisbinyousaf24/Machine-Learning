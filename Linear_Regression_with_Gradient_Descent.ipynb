{
 "cells": [
  {
   "cell_type": "code",
   "execution_count": 1,
   "id": "ce2fbf34",
   "metadata": {},
   "outputs": [],
   "source": [
    "# Importing Libraries\n",
    "from IPython.display import display\n",
    "import numpy as np\n",
    "import pandas as pd\n",
    "import matplotlib.pyplot as plt\n",
    "import math, copy"
   ]
  },
  {
   "cell_type": "code",
   "execution_count": 2,
   "id": "605ec65a",
   "metadata": {},
   "outputs": [
    {
     "name": "stdout",
     "output_type": "stream",
     "text": [
      "['Solarize_Light2', '_classic_test_patch', 'bmh', 'classic', 'dark_background', 'fast', 'fivethirtyeight', 'ggplot', 'grayscale', 'seaborn', 'seaborn-bright', 'seaborn-colorblind', 'seaborn-dark', 'seaborn-dark-palette', 'seaborn-darkgrid', 'seaborn-deep', 'seaborn-muted', 'seaborn-notebook', 'seaborn-paper', 'seaborn-pastel', 'seaborn-poster', 'seaborn-talk', 'seaborn-ticks', 'seaborn-white', 'seaborn-whitegrid', 'tableau-colorblind10']\n"
     ]
    }
   ],
   "source": [
    "# Selecting styles for plotting\n",
    "print(plt.style.available)\n",
    "plt.style.use('dark_background')"
   ]
  },
  {
   "cell_type": "code",
   "execution_count": 181,
   "id": "2e243964",
   "metadata": {},
   "outputs": [
    {
     "name": "stdout",
     "output_type": "stream",
     "text": [
      "No. of Employees: [1.  2.  2.3 2.5 2.6 2.8 3.1 3.5 3.7 2.2 4.5 1.9]\n",
      "Size of Company: [23.44 33.44 34.5  36.7  37.12 40.02 42.35 45.5  47.6  33.7  52.3  30.1 ]\n"
     ]
    }
   ],
   "source": [
    "# Datasets\n",
    "x_train = np.array([1.0, 2.0, 2.3, 2.5, 2.6, 2.8, 3.1, 3.5, 3.7, 2.2, 4.5, 1.9])\n",
    "y_train = np.array([23.44, 33.44, 34.50, 36.70, 37.12, 40.02, 42.35, 45.50, 47.60, 33.70, 52.30, 30.10])\n",
    "print(f\"No. of Employees: {x_train}\")\n",
    "print(f\"Size of Company: {y_train}\")"
   ]
  },
  {
   "cell_type": "code",
   "execution_count": 182,
   "id": "8cbc6c07",
   "metadata": {},
   "outputs": [
    {
     "data": {
      "text/html": [
       "<div>\n",
       "<style scoped>\n",
       "    .dataframe tbody tr th:only-of-type {\n",
       "        vertical-align: middle;\n",
       "    }\n",
       "\n",
       "    .dataframe tbody tr th {\n",
       "        vertical-align: top;\n",
       "    }\n",
       "\n",
       "    .dataframe thead th {\n",
       "        text-align: right;\n",
       "    }\n",
       "</style>\n",
       "<table border=\"1\" class=\"dataframe\">\n",
       "  <thead>\n",
       "    <tr style=\"text-align: right;\">\n",
       "      <th></th>\n",
       "      <th>No. of Emplyees</th>\n",
       "      <th>Company Size</th>\n",
       "    </tr>\n",
       "  </thead>\n",
       "  <tbody>\n",
       "    <tr>\n",
       "      <th>0</th>\n",
       "      <td>1.0</td>\n",
       "      <td>23.44</td>\n",
       "    </tr>\n",
       "    <tr>\n",
       "      <th>1</th>\n",
       "      <td>2.0</td>\n",
       "      <td>33.44</td>\n",
       "    </tr>\n",
       "    <tr>\n",
       "      <th>2</th>\n",
       "      <td>2.3</td>\n",
       "      <td>34.50</td>\n",
       "    </tr>\n",
       "    <tr>\n",
       "      <th>3</th>\n",
       "      <td>2.5</td>\n",
       "      <td>36.70</td>\n",
       "    </tr>\n",
       "    <tr>\n",
       "      <th>4</th>\n",
       "      <td>2.6</td>\n",
       "      <td>37.12</td>\n",
       "    </tr>\n",
       "    <tr>\n",
       "      <th>5</th>\n",
       "      <td>2.8</td>\n",
       "      <td>40.02</td>\n",
       "    </tr>\n",
       "    <tr>\n",
       "      <th>6</th>\n",
       "      <td>3.1</td>\n",
       "      <td>42.35</td>\n",
       "    </tr>\n",
       "    <tr>\n",
       "      <th>7</th>\n",
       "      <td>3.5</td>\n",
       "      <td>45.50</td>\n",
       "    </tr>\n",
       "    <tr>\n",
       "      <th>8</th>\n",
       "      <td>3.7</td>\n",
       "      <td>47.60</td>\n",
       "    </tr>\n",
       "    <tr>\n",
       "      <th>9</th>\n",
       "      <td>2.2</td>\n",
       "      <td>33.70</td>\n",
       "    </tr>\n",
       "    <tr>\n",
       "      <th>10</th>\n",
       "      <td>4.5</td>\n",
       "      <td>52.30</td>\n",
       "    </tr>\n",
       "    <tr>\n",
       "      <th>11</th>\n",
       "      <td>1.9</td>\n",
       "      <td>30.10</td>\n",
       "    </tr>\n",
       "  </tbody>\n",
       "</table>\n",
       "</div>"
      ],
      "text/plain": [
       "    No. of Emplyees  Company Size\n",
       "0               1.0         23.44\n",
       "1               2.0         33.44\n",
       "2               2.3         34.50\n",
       "3               2.5         36.70\n",
       "4               2.6         37.12\n",
       "5               2.8         40.02\n",
       "6               3.1         42.35\n",
       "7               3.5         45.50\n",
       "8               3.7         47.60\n",
       "9               2.2         33.70\n",
       "10              4.5         52.30\n",
       "11              1.9         30.10"
      ]
     },
     "metadata": {},
     "output_type": "display_data"
    }
   ],
   "source": [
    "# Tabulating the Data\n",
    "my_dict = {\"No. of Emplyees\": x_train, \"Company Size\": y_train}\n",
    "dataframe = pd.DataFrame(my_dict)\n",
    "display(dataframe)"
   ]
  },
  {
   "cell_type": "code",
   "execution_count": 183,
   "id": "2eac1060",
   "metadata": {},
   "outputs": [
    {
     "name": "stdout",
     "output_type": "stream",
     "text": [
      "Number of training Examples: 12\n"
     ]
    }
   ],
   "source": [
    "# Computing Training examples\n",
    "m = x_train.shape[0]\n",
    "print(f\"Number of training Examples: {m}\")"
   ]
  },
  {
   "cell_type": "code",
   "execution_count": 184,
   "id": "ad7bc724",
   "metadata": {},
   "outputs": [
    {
     "name": "stdout",
     "output_type": "stream",
     "text": [
      "(x^(0), y^(0)) = (1.0, 23.44)\n",
      "(x^(1), y^(1)) = (2.0, 33.44)\n",
      "(x^(2), y^(2)) = (2.3, 34.5)\n",
      "(x^(3), y^(3)) = (2.5, 36.7)\n",
      "(x^(4), y^(4)) = (2.6, 37.12)\n",
      "(x^(5), y^(5)) = (2.8, 40.02)\n",
      "(x^(6), y^(6)) = (3.1, 42.35)\n",
      "(x^(7), y^(7)) = (3.5, 45.5)\n",
      "(x^(8), y^(8)) = (3.7, 47.6)\n",
      "(x^(9), y^(9)) = (2.2, 33.7)\n",
      "(x^(10), y^(10)) = (4.5, 52.3)\n",
      "(x^(11), y^(11)) = (1.9, 30.1)\n"
     ]
    }
   ],
   "source": [
    "# Printing training examples as coordinate format\n",
    "for i in range(m):\n",
    "    x_i = x_train[i]\n",
    "    y_i = y_train[i]\n",
    "    print(f\"(x^({i}), y^({i})) = ({x_i}, {y_i})\")"
   ]
  },
  {
   "cell_type": "code",
   "execution_count": 185,
   "id": "bb571b09",
   "metadata": {},
   "outputs": [
    {
     "data": {
      "image/png": "[encoded data removed]",
      "text/plain": [
       "<Figure size 432x288 with 1 Axes>"
      ]
     },
     "metadata": {},
     "output_type": "display_data"
    }
   ],
   "source": [
    "# Plotting Data points\n",
    "plt.scatter(x_train, y_train, marker = 'x', c = 'r')\n",
    "# Set the title\n",
    "plt.title(\"Company Size\")\n",
    "# Set the y-axis label\n",
    "plt.ylabel('Size (in sq-ft)')\n",
    "# Set the x-axis label\n",
    "plt.xlabel('No. of Employees')\n",
    "plt.show()"
   ]
  },
  {
   "cell_type": "code",
   "execution_count": 285,
   "id": "05a904f1",
   "metadata": {},
   "outputs": [
    {
     "name": "stdout",
     "output_type": "stream",
     "text": [
      "The weight is: 13\n",
      "The scale is: 2\n"
     ]
    }
   ],
   "source": [
    "# Parameters\n",
    "weight = 13\n",
    "scale = 2\n",
    "print(f\"The weight is: {weight}\")\n",
    "print(f\"The scale is: {scale}\")"
   ]
  },
  {
   "cell_type": "code",
   "execution_count": 286,
   "id": "b471f91b",
   "metadata": {},
   "outputs": [],
   "source": [
    "# Designing Model\n",
    "def model_design(x,w,b):\n",
    "    examples = x.shape[0]\n",
    "    f_wb = np.zeros(examples)\n",
    "    for i in range(examples):\n",
    "        f_wb[i] = w * x[i] + b\n",
    "    return f_wb"
   ]
  },
  {
   "cell_type": "code",
   "execution_count": 287,
   "id": "4acc4937",
   "metadata": {},
   "outputs": [
    {
     "name": "stdout",
     "output_type": "stream",
     "text": [
      "[15.  28.  31.9 34.5 35.8 38.4 42.3 47.5 50.1 30.6 60.5 26.7]\n"
     ]
    }
   ],
   "source": [
    "# Linear regression intuition\n",
    "my_model = model_design(x_train, weight, scale)\n",
    "print(my_model)"
   ]
  },
  {
   "cell_type": "code",
   "execution_count": 288,
   "id": "1168044f",
   "metadata": {},
   "outputs": [
    {
     "data": {
      "text/html": [
       "<div>\n",
       "<style scoped>\n",
       "    .dataframe tbody tr th:only-of-type {\n",
       "        vertical-align: middle;\n",
       "    }\n",
       "\n",
       "    .dataframe tbody tr th {\n",
       "        vertical-align: top;\n",
       "    }\n",
       "\n",
       "    .dataframe thead th {\n",
       "        text-align: right;\n",
       "    }\n",
       "</style>\n",
       "<table border=\"1\" class=\"dataframe\">\n",
       "  <thead>\n",
       "    <tr style=\"text-align: right;\">\n",
       "      <th></th>\n",
       "      <th>X</th>\n",
       "      <th>F_WB(X)</th>\n",
       "    </tr>\n",
       "  </thead>\n",
       "  <tbody>\n",
       "    <tr>\n",
       "      <th>0</th>\n",
       "      <td>1.0</td>\n",
       "      <td>15.0</td>\n",
       "    </tr>\n",
       "    <tr>\n",
       "      <th>1</th>\n",
       "      <td>2.0</td>\n",
       "      <td>28.0</td>\n",
       "    </tr>\n",
       "    <tr>\n",
       "      <th>2</th>\n",
       "      <td>2.3</td>\n",
       "      <td>31.9</td>\n",
       "    </tr>\n",
       "    <tr>\n",
       "      <th>3</th>\n",
       "      <td>2.5</td>\n",
       "      <td>34.5</td>\n",
       "    </tr>\n",
       "    <tr>\n",
       "      <th>4</th>\n",
       "      <td>2.6</td>\n",
       "      <td>35.8</td>\n",
       "    </tr>\n",
       "    <tr>\n",
       "      <th>5</th>\n",
       "      <td>2.8</td>\n",
       "      <td>38.4</td>\n",
       "    </tr>\n",
       "    <tr>\n",
       "      <th>6</th>\n",
       "      <td>3.1</td>\n",
       "      <td>42.3</td>\n",
       "    </tr>\n",
       "    <tr>\n",
       "      <th>7</th>\n",
       "      <td>3.5</td>\n",
       "      <td>47.5</td>\n",
       "    </tr>\n",
       "    <tr>\n",
       "      <th>8</th>\n",
       "      <td>3.7</td>\n",
       "      <td>50.1</td>\n",
       "    </tr>\n",
       "    <tr>\n",
       "      <th>9</th>\n",
       "      <td>2.2</td>\n",
       "      <td>30.6</td>\n",
       "    </tr>\n",
       "    <tr>\n",
       "      <th>10</th>\n",
       "      <td>4.5</td>\n",
       "      <td>60.5</td>\n",
       "    </tr>\n",
       "    <tr>\n",
       "      <th>11</th>\n",
       "      <td>1.9</td>\n",
       "      <td>26.7</td>\n",
       "    </tr>\n",
       "  </tbody>\n",
       "</table>\n",
       "</div>"
      ],
      "text/plain": [
       "      X  F_WB(X)\n",
       "0   1.0     15.0\n",
       "1   2.0     28.0\n",
       "2   2.3     31.9\n",
       "3   2.5     34.5\n",
       "4   2.6     35.8\n",
       "5   2.8     38.4\n",
       "6   3.1     42.3\n",
       "7   3.5     47.5\n",
       "8   3.7     50.1\n",
       "9   2.2     30.6\n",
       "10  4.5     60.5\n",
       "11  1.9     26.7"
      ]
     },
     "metadata": {},
     "output_type": "display_data"
    }
   ],
   "source": [
    "# Tabulating feature and corresponding output function values (Prediction curve)\n",
    "func_dic = {\"X\":x_train, \"F_WB(X)\": my_model}\n",
    "dataframe_new = pd.DataFrame(func_dic)\n",
    "display(dataframe_new)"
   ]
  },
  {
   "cell_type": "code",
   "execution_count": 289,
   "id": "532fd462",
   "metadata": {},
   "outputs": [
    {
     "data": {
      "image/png": "[encoded data removed]",
      "text/plain": [
       "<Figure size 432x288 with 1 Axes>"
      ]
     },
     "metadata": {},
     "output_type": "display_data"
    }
   ],
   "source": [
    "#Plotting model\n",
    "plt.plot(x_train, my_model, c='c',label='Our Prediction')\n",
    "# Plot the data points\n",
    "plt.scatter(x_train, y_train, marker='x', c='r',label='Actual Values')\n",
    "# Set the title\n",
    "plt.title(\"Company Size\")\n",
    "# Set the y-axis label\n",
    "plt.ylabel('Size (in sq-ft)')\n",
    "# Set the x-axis label\n",
    "plt.xlabel('No. of Employees')\n",
    "plt.legend()\n",
    "plt.show()"
   ]
  },
  {
   "cell_type": "code",
   "execution_count": 290,
   "id": "fe8ffacb",
   "metadata": {},
   "outputs": [
    {
     "name": "stdout",
     "output_type": "stream",
     "text": [
      "The size of company for accomodation of 277 employees is: 3603\n"
     ]
    }
   ],
   "source": [
    "# Predicting wrt to manually set parameters\n",
    "x_i = 277\n",
    "emp_277 = weight * x_i + scale\n",
    "print(f\"The size of company for accomodation of {x_i} employees is: {emp_277}\")"
   ]
  },
  {
   "cell_type": "code",
   "execution_count": 291,
   "id": "cee9615e",
   "metadata": {},
   "outputs": [],
   "source": [
    "# The above Prediction curve is not a good fit as seen from the above plot\n",
    "# Hence using technique of gradient descent to find the parameters values\n",
    "# Cost Function\n",
    "def compute_cost(x,y,w,b):\n",
    "    examples = x.shape[0]\n",
    "    cumulative_cost = 0\n",
    "    for i in range(examples):\n",
    "        fun = w * x[i] + b\n",
    "        cost = (fun - y[i])**2\n",
    "        cumulative_cost = cumulative_cost + cost\n",
    "    total_cost = (1/2 * m) * cumulative_cost\n",
    "    return total_cost"
   ]
  },
  {
   "cell_type": "code",
   "execution_count": 292,
   "id": "80d25d4f",
   "metadata": {},
   "outputs": [
    {
     "name": "stdout",
     "output_type": "stream",
     "text": [
      "Model cost is: 12.927390000000004\n"
     ]
    }
   ],
   "source": [
    "# Computing cost at manually set parameters\n",
    "model_cost = compute_cost(x_train, y_train, weight, scale)\n",
    "print(f\"Model cost is: {model_cost / 100}\")"
   ]
  },
  {
   "cell_type": "code",
   "execution_count": 293,
   "id": "07a97f9d",
   "metadata": {},
   "outputs": [],
   "source": [
    "# Computing Gradient\n",
    "def compute_gradient(x, y, w, b):\n",
    "    eg = x.shape[0]\n",
    "    dj_dw = 0\n",
    "    dj_db = 0\n",
    "    for i in range(eg):\n",
    "        f_wb = w * x[i] + b\n",
    "        dj_dw_i = (f_wb - y[i]) * x[i]\n",
    "        dj_db_i = f_wb - y[i]\n",
    "        dj_db += dj_db_i\n",
    "        dj_dw += dj_dw_i\n",
    "    dj_dw = dj_dw / m\n",
    "    dj_db = dj_db / m\n",
    "    return dj_dw, dj_db"
   ]
  },
  {
   "cell_type": "code",
   "execution_count": 294,
   "id": "a9fa3d4b",
   "metadata": {},
   "outputs": [],
   "source": [
    "# Gradient Descent\n",
    "def gradient_descent(x,y,w_in,b_in,alpha,num_iters,cost_fun,gradient_fun):\n",
    "    w = copy.deepcopy(w_in)\n",
    "    J_history = []\n",
    "    p_history = []\n",
    "    b = b_in\n",
    "    w = w_in\n",
    "    for i in range(num_iters):\n",
    "        # Calculate Gradient and update parameters\n",
    "        dj_dw, dj_db = gradient_fun(x,y,w,b)\n",
    "        # Updating parameters\n",
    "        b = b - alpha * dj_db                            \n",
    "        w = w - alpha * dj_dw\n",
    "    return w, b"
   ]
  },
  {
   "cell_type": "code",
   "execution_count": 300,
   "id": "2fd269c3",
   "metadata": {},
   "outputs": [
    {
     "name": "stdout",
     "output_type": "stream",
     "text": [
      "(w,b) found by gradient descent: (11.97,5.13)\n"
     ]
    }
   ],
   "source": [
    "# Initialization\n",
    "weight_init = 0\n",
    "scale_init = 0\n",
    "# some gradient descent settings\n",
    "iterations = 1000\n",
    "tmp_alpha = 0.001\n",
    "# Running Gradient Descent\n",
    "w_final, b_final = gradient_descent(x_train ,y_train, weight_init, scale_init, tmp_alpha, \n",
    "                                                    iterations, compute_cost, compute_gradient)\n",
    "print(f\"(w,b) found by gradient descent: ({w_final:.2f},{b_final:.2f})\")"
   ]
  },
  {
   "cell_type": "code",
   "execution_count": 307,
   "id": "58509d6f",
   "metadata": {},
   "outputs": [
    {
     "name": "stdout",
     "output_type": "stream",
     "text": [
      "Final Weight is: 12\n",
      "Final Scale is: 5\n",
      "The Fitted Cost is (scaling down by 100): 8\n"
     ]
    }
   ],
   "source": [
    "# New Parameters\n",
    "final_weight = round(w_final)\n",
    "final_scale = round(b_final)\n",
    "print(f\"Final Weight is: {final_weight}\")\n",
    "print(f\"Final Scale is: {final_scale}\")\n",
    "# Plotting Line Regression plot for new updated parameters\n",
    "fit_model = model_design(x_train, final_weight, final_scale)\n",
    "# Cost of model\n",
    "fit_model_cost = compute_cost(x_train, y_train, final_weight, final_scale)\n",
    "print(f\"The Fitted Cost is (scaling down by 100): {round(fit_model_cost / 100)}\")"
   ]
  },
  {
   "cell_type": "code",
   "execution_count": 308,
   "id": "f66a268c",
   "metadata": {},
   "outputs": [
    {
     "data": {
      "image/png": "[encoded data removed]",
      "text/plain": [
       "<Figure size 432x288 with 1 Axes>"
      ]
     },
     "metadata": {},
     "output_type": "display_data"
    }
   ],
   "source": [
    "# Plotting the Fitted model\n",
    "plt.plot(x_train, fit_model, c='c',label='Our Prediction')\n",
    "# Plot the data points\n",
    "plt.scatter(x_train, y_train, marker='x', c='r',label='Actual Values')\n",
    "# Set the title\n",
    "plt.title(\"Company Size\")\n",
    "# Set the y-axis label\n",
    "plt.ylabel('Size (in sq-ft)')\n",
    "# Set the x-axis label\n",
    "plt.xlabel('No. of Employees')\n",
    "plt.legend()\n",
    "plt.show()"
   ]
  },
  {
   "cell_type": "code",
   "execution_count": 309,
   "id": "26bbe0e7",
   "metadata": {},
   "outputs": [
    {
     "name": "stdout",
     "output_type": "stream",
     "text": [
      "The size of company for accomodation of 277 employees is: 3329\n"
     ]
    }
   ],
   "source": [
    "# Testing the model\n",
    "Employees = 277\n",
    "size = final_weight * Employees + final_scale\n",
    "print(f\"The size of company for accomodation of {x_i} employees is: {size}\")"
   ]
  },
  {
   "cell_type": "code",
   "execution_count": null,
   "id": "66c9e0ef",
   "metadata": {},
   "outputs": [],
   "source": []
  }
 ],
 "metadata": {
  "kernelspec": {
   "display_name": "Python 3 (ipykernel)",
   "language": "python",
   "name": "python3"
  },
  "language_info": {
   "codemirror_mode": {
    "name": "ipython",
    "version": 3
   },
   "file_extension": ".py",
   "mimetype": "text/x-python",
   "name": "python",
   "nbconvert_exporter": "python",
   "pygments_lexer": "ipython3",
   "version": "3.9.7"
  }
 },
 "nbformat": 4,
 "nbformat_minor": 5
}
